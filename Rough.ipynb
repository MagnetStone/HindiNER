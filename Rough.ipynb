{
 "cells": [
  {
   "cell_type": "code",
   "execution_count": 35,
   "metadata": {
    "scrolled": true
   },
   "outputs": [
    {
     "name": "stdout",
     "output_type": "stream",
     "text": [
      "सप्ताह 1\n",
      "है 3\n",
      "एक 2\n",
      "आओ 1\n",
      "हूं 8\n",
      "हूँ 1\n",
      "चाहिए 2\n",
      "टिकटों 1\n",
      "कल 7\n",
      "कैनबरा 1\n",
      "बाद 1\n",
      "लिए 6\n",
      "अगले 1\n",
      "लंदन 1\n",
      "बॉम्बे 1\n",
      "चेन्नई 1\n",
      "जाएं 1\n",
      "चाहता 9\n",
      "गोवा 1\n",
      "जाने 2\n",
      "मैं 9\n",
      "करें 5\n",
      "इंग्लैंड 1\n",
      "ज़रूरत 1\n",
      "ले 4\n",
      "जाना 10\n",
      "मुंबई 4\n",
      "मुझे 9\n",
      "टिकट 4\n",
      "बुक 4\n",
      "सिडनी 2\n",
      "जांच 1\n",
      "होना 2\n",
      "नागपुर 1\n",
      "भोपाल 1\n",
      "को 1\n",
      "में 3\n",
      "की 3\n",
      "अमेरिका 1\n",
      "के 7\n",
      "इंदौर 1\n",
      "जाओ 2\n",
      "जरूरत 1\n",
      "न्यूयॉर्क 1\n",
      "110702 1\n",
      "दिल्ली 5\n",
      "बेंगलुरु 1\n"
     ]
    }
   ],
   "source": [
    "import string\n",
    "dict={}\n",
    "with open('train.txt','r') as file:\n",
    "#     while True:\n",
    "    y=file.read()\n",
    "    y=y.splitlines()\n",
    "#         x.rstrip()\n",
    "    for x in y:\n",
    "        x=x.translate(None, string.punctuation)\n",
    "#         x=x.split(' ')\n",
    "#         if x=='':\n",
    "#             break\n",
    "        x=x.split(' ')\n",
    "#         print x\n",
    "#         y=[]\n",
    "#         for i in x:\n",
    "#           y.append(i.encode('utf-8'))\n",
    "#         print x[0]\n",
    "        for i in x:\n",
    "            if i in dict:\n",
    "                dict[i]+=1\n",
    "            else:\n",
    "                dict[i]=1\n",
    "for x in dict:\n",
    "    print x,dict[x]\n",
    "# print dict[dict.keys[0]]"
   ]
  },
  {
   "cell_type": "code",
   "execution_count": 46,
   "metadata": {},
   "outputs": [
    {
     "name": "stdout",
     "output_type": "stream",
     "text": [
      "अधसूखा\n"
     ]
    }
   ],
   "source": [
    "# import string\n",
    "# dict={}\n",
    "listt=[]\n",
    "with open(database_file,'r') as file:\n",
    "#     while True:\n",
    "    y=file.read()\n",
    "    y=y.splitlines()\n",
    "    for x in y:\n",
    "        x=x.split(' ')\n",
    "        if(x[0].isdigit()):\n",
    "            continue\n",
    "        else:\n",
    "            listt.append(x[0])\n",
    "return listt\n",
    "# print listt[1000]\n",
    "    #         x.rstrip()\n",
    "#     for x in y:\n",
    "#         x=x.translate(None, string.punctuation)\n",
    "#         x=x.split(' ')\n",
    "#         if x=='':\n",
    "#             break\n",
    "#         x=x.split(' ')\n",
    "#         print x\n",
    "#         y=[]\n",
    "#         for i in x:\n",
    "#           y.append(i.encode('utf-8'))\n",
    "#         print x[0]\n",
    "#         for i in x:\n",
    "#             if i in dict:\n",
    "#                 dict[i]+=1\n",
    "#             else:\n",
    "#                 dict[i]=1\n",
    "# for x in dict:\n",
    "#     print x,dict[x]\n",
    "# print dict[dict.keys[0]]"
   ]
  },
  {
   "cell_type": "code",
   "execution_count": null,
   "metadata": {
    "collapsed": true
   },
   "outputs": [],
   "source": []
  }
 ],
 "metadata": {
  "kernelspec": {
   "display_name": "Python 2",
   "language": "python",
   "name": "python2"
  },
  "language_info": {
   "codemirror_mode": {
    "name": "ipython",
    "version": 2
   },
   "file_extension": ".py",
   "mimetype": "text/x-python",
   "name": "python",
   "nbconvert_exporter": "python",
   "pygments_lexer": "ipython2",
   "version": "2.7.13"
  }
 },
 "nbformat": 4,
 "nbformat_minor": 2
}
